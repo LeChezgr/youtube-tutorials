{
  "nbformat": 4,
  "nbformat_minor": 0,
  "metadata": {
    "colab": {
      "name": "chrononet-pytorch.ipynb",
      "provenance": [],
      "collapsed_sections": []
    },
    "kernelspec": {
      "name": "python3",
      "display_name": "Python 3"
    },
    "language_info": {
      "name": "python"
    },
    "widgets": {
      "application/vnd.jupyter.widget-state+json": {
        "d906d8b3258a4897bd5301d4feaa91c7": {
          "model_module": "@jupyter-widgets/controls",
          "model_name": "HBoxModel",
          "model_module_version": "1.5.0",
          "state": {
            "_view_name": "HBoxView",
            "_dom_classes": [],
            "_model_name": "HBoxModel",
            "_view_module": "@jupyter-widgets/controls",
            "_model_module_version": "1.5.0",
            "_view_count": null,
            "_view_module_version": "1.5.0",
            "box_style": "",
            "layout": "IPY_MODEL_ddb353b0e36747839bebbc72689b29a8",
            "_model_module": "@jupyter-widgets/controls",
            "children": [
              "IPY_MODEL_6f0e8c4ca555468fb2d14b929434fc49",
              "IPY_MODEL_7c19031e4b1a4306ae282a6cdf4a0935",
              "IPY_MODEL_960da51a7dc342c4ae478cfa551de087"
            ]
          }
        },
        "ddb353b0e36747839bebbc72689b29a8": {
          "model_module": "@jupyter-widgets/base",
          "model_name": "LayoutModel",
          "model_module_version": "1.2.0",
          "state": {
            "_view_name": "LayoutView",
            "grid_template_rows": null,
            "right": null,
            "justify_content": null,
            "_view_module": "@jupyter-widgets/base",
            "overflow": null,
            "_model_module_version": "1.2.0",
            "_view_count": null,
            "flex_flow": "row wrap",
            "width": "100%",
            "min_width": null,
            "border": null,
            "align_items": null,
            "bottom": null,
            "_model_module": "@jupyter-widgets/base",
            "top": null,
            "grid_column": null,
            "overflow_y": null,
            "overflow_x": null,
            "grid_auto_flow": null,
            "grid_area": null,
            "grid_template_columns": null,
            "flex": null,
            "_model_name": "LayoutModel",
            "justify_items": null,
            "grid_row": null,
            "max_height": null,
            "align_content": null,
            "visibility": null,
            "align_self": null,
            "height": null,
            "min_height": null,
            "padding": null,
            "grid_auto_rows": null,
            "grid_gap": null,
            "max_width": null,
            "order": null,
            "_view_module_version": "1.2.0",
            "grid_template_areas": null,
            "object_position": null,
            "object_fit": null,
            "grid_auto_columns": null,
            "margin": null,
            "display": "inline-flex",
            "left": null
          }
        },
        "6f0e8c4ca555468fb2d14b929434fc49": {
          "model_module": "@jupyter-widgets/controls",
          "model_name": "HTMLModel",
          "model_module_version": "1.5.0",
          "state": {
            "_view_name": "HTMLView",
            "style": "IPY_MODEL_c26031cf9401466dad958a13dd606dc8",
            "_dom_classes": [],
            "description": "",
            "_model_name": "HTMLModel",
            "placeholder": "​",
            "_view_module": "@jupyter-widgets/controls",
            "_model_module_version": "1.5.0",
            "value": "Validation sanity check: 100%",
            "_view_count": null,
            "_view_module_version": "1.5.0",
            "description_tooltip": null,
            "_model_module": "@jupyter-widgets/controls",
            "layout": "IPY_MODEL_c3ac49e08f2243cf8d0fd5beb631a10f"
          }
        },
        "7c19031e4b1a4306ae282a6cdf4a0935": {
          "model_module": "@jupyter-widgets/controls",
          "model_name": "FloatProgressModel",
          "model_module_version": "1.5.0",
          "state": {
            "_view_name": "ProgressView",
            "style": "IPY_MODEL_874dce2b24c6419b8a8f32ab264b4daa",
            "_dom_classes": [],
            "description": "",
            "_model_name": "FloatProgressModel",
            "bar_style": "",
            "max": 2,
            "_view_module": "@jupyter-widgets/controls",
            "_model_module_version": "1.5.0",
            "value": 2,
            "_view_count": null,
            "_view_module_version": "1.5.0",
            "orientation": "horizontal",
            "min": 0,
            "description_tooltip": null,
            "_model_module": "@jupyter-widgets/controls",
            "layout": "IPY_MODEL_dbf216bbe04a45ba89dc71d9e0632f6e"
          }
        },
        "960da51a7dc342c4ae478cfa551de087": {
          "model_module": "@jupyter-widgets/controls",
          "model_name": "HTMLModel",
          "model_module_version": "1.5.0",
          "state": {
            "_view_name": "HTMLView",
            "style": "IPY_MODEL_330e6b856caf4754a302be2f7fd66099",
            "_dom_classes": [],
            "description": "",
            "_model_name": "HTMLModel",
            "placeholder": "​",
            "_view_module": "@jupyter-widgets/controls",
            "_model_module_version": "1.5.0",
            "value": " 2/2 [00:00&lt;00:00, 11.97it/s]",
            "_view_count": null,
            "_view_module_version": "1.5.0",
            "description_tooltip": null,
            "_model_module": "@jupyter-widgets/controls",
            "layout": "IPY_MODEL_ee28e600a91944cab7a85d06b78add4c"
          }
        },
        "c26031cf9401466dad958a13dd606dc8": {
          "model_module": "@jupyter-widgets/controls",
          "model_name": "DescriptionStyleModel",
          "model_module_version": "1.5.0",
          "state": {
            "_view_name": "StyleView",
            "_model_name": "DescriptionStyleModel",
            "description_width": "",
            "_view_module": "@jupyter-widgets/base",
            "_model_module_version": "1.5.0",
            "_view_count": null,
            "_view_module_version": "1.2.0",
            "_model_module": "@jupyter-widgets/controls"
          }
        },
        "c3ac49e08f2243cf8d0fd5beb631a10f": {
          "model_module": "@jupyter-widgets/base",
          "model_name": "LayoutModel",
          "model_module_version": "1.2.0",
          "state": {
            "_view_name": "LayoutView",
            "grid_template_rows": null,
            "right": null,
            "justify_content": null,
            "_view_module": "@jupyter-widgets/base",
            "overflow": null,
            "_model_module_version": "1.2.0",
            "_view_count": null,
            "flex_flow": null,
            "width": null,
            "min_width": null,
            "border": null,
            "align_items": null,
            "bottom": null,
            "_model_module": "@jupyter-widgets/base",
            "top": null,
            "grid_column": null,
            "overflow_y": null,
            "overflow_x": null,
            "grid_auto_flow": null,
            "grid_area": null,
            "grid_template_columns": null,
            "flex": null,
            "_model_name": "LayoutModel",
            "justify_items": null,
            "grid_row": null,
            "max_height": null,
            "align_content": null,
            "visibility": null,
            "align_self": null,
            "height": null,
            "min_height": null,
            "padding": null,
            "grid_auto_rows": null,
            "grid_gap": null,
            "max_width": null,
            "order": null,
            "_view_module_version": "1.2.0",
            "grid_template_areas": null,
            "object_position": null,
            "object_fit": null,
            "grid_auto_columns": null,
            "margin": null,
            "display": null,
            "left": null
          }
        },
        "874dce2b24c6419b8a8f32ab264b4daa": {
          "model_module": "@jupyter-widgets/controls",
          "model_name": "ProgressStyleModel",
          "model_module_version": "1.5.0",
          "state": {
            "_view_name": "StyleView",
            "_model_name": "ProgressStyleModel",
            "description_width": "",
            "_view_module": "@jupyter-widgets/base",
            "_model_module_version": "1.5.0",
            "_view_count": null,
            "_view_module_version": "1.2.0",
            "bar_color": null,
            "_model_module": "@jupyter-widgets/controls"
          }
        },
        "dbf216bbe04a45ba89dc71d9e0632f6e": {
          "model_module": "@jupyter-widgets/base",
          "model_name": "LayoutModel",
          "model_module_version": "1.2.0",
          "state": {
            "_view_name": "LayoutView",
            "grid_template_rows": null,
            "right": null,
            "justify_content": null,
            "_view_module": "@jupyter-widgets/base",
            "overflow": null,
            "_model_module_version": "1.2.0",
            "_view_count": null,
            "flex_flow": null,
            "width": null,
            "min_width": null,
            "border": null,
            "align_items": null,
            "bottom": null,
            "_model_module": "@jupyter-widgets/base",
            "top": null,
            "grid_column": null,
            "overflow_y": null,
            "overflow_x": null,
            "grid_auto_flow": null,
            "grid_area": null,
            "grid_template_columns": null,
            "flex": "2",
            "_model_name": "LayoutModel",
            "justify_items": null,
            "grid_row": null,
            "max_height": null,
            "align_content": null,
            "visibility": null,
            "align_self": null,
            "height": null,
            "min_height": null,
            "padding": null,
            "grid_auto_rows": null,
            "grid_gap": null,
            "max_width": null,
            "order": null,
            "_view_module_version": "1.2.0",
            "grid_template_areas": null,
            "object_position": null,
            "object_fit": null,
            "grid_auto_columns": null,
            "margin": null,
            "display": null,
            "left": null
          }
        },
        "330e6b856caf4754a302be2f7fd66099": {
          "model_module": "@jupyter-widgets/controls",
          "model_name": "DescriptionStyleModel",
          "model_module_version": "1.5.0",
          "state": {
            "_view_name": "StyleView",
            "_model_name": "DescriptionStyleModel",
            "description_width": "",
            "_view_module": "@jupyter-widgets/base",
            "_model_module_version": "1.5.0",
            "_view_count": null,
            "_view_module_version": "1.2.0",
            "_model_module": "@jupyter-widgets/controls"
          }
        },
        "ee28e600a91944cab7a85d06b78add4c": {
          "model_module": "@jupyter-widgets/base",
          "model_name": "LayoutModel",
          "model_module_version": "1.2.0",
          "state": {
            "_view_name": "LayoutView",
            "grid_template_rows": null,
            "right": null,
            "justify_content": null,
            "_view_module": "@jupyter-widgets/base",
            "overflow": null,
            "_model_module_version": "1.2.0",
            "_view_count": null,
            "flex_flow": null,
            "width": null,
            "min_width": null,
            "border": null,
            "align_items": null,
            "bottom": null,
            "_model_module": "@jupyter-widgets/base",
            "top": null,
            "grid_column": null,
            "overflow_y": null,
            "overflow_x": null,
            "grid_auto_flow": null,
            "grid_area": null,
            "grid_template_columns": null,
            "flex": null,
            "_model_name": "LayoutModel",
            "justify_items": null,
            "grid_row": null,
            "max_height": null,
            "align_content": null,
            "visibility": null,
            "align_self": null,
            "height": null,
            "min_height": null,
            "padding": null,
            "grid_auto_rows": null,
            "grid_gap": null,
            "max_width": null,
            "order": null,
            "_view_module_version": "1.2.0",
            "grid_template_areas": null,
            "object_position": null,
            "object_fit": null,
            "grid_auto_columns": null,
            "margin": null,
            "display": null,
            "left": null
          }
        },
        "c08f1e54817a4cb399d13f70cc631556": {
          "model_module": "@jupyter-widgets/controls",
          "model_name": "HBoxModel",
          "model_module_version": "1.5.0",
          "state": {
            "_view_name": "HBoxView",
            "_dom_classes": [],
            "_model_name": "HBoxModel",
            "_view_module": "@jupyter-widgets/controls",
            "_model_module_version": "1.5.0",
            "_view_count": null,
            "_view_module_version": "1.5.0",
            "box_style": "",
            "layout": "IPY_MODEL_29db7d286e214531afde8496c7eac53b",
            "_model_module": "@jupyter-widgets/controls",
            "children": [
              "IPY_MODEL_da67d06f25b341938d96611e7ca9021b",
              "IPY_MODEL_2e774d5dbdf24f70a7c6fcf361111f69",
              "IPY_MODEL_ac2821869fb44bc8afa959c9a9f80bd3"
            ]
          }
        },
        "29db7d286e214531afde8496c7eac53b": {
          "model_module": "@jupyter-widgets/base",
          "model_name": "LayoutModel",
          "model_module_version": "1.2.0",
          "state": {
            "_view_name": "LayoutView",
            "grid_template_rows": null,
            "right": null,
            "justify_content": null,
            "_view_module": "@jupyter-widgets/base",
            "overflow": null,
            "_model_module_version": "1.2.0",
            "_view_count": null,
            "flex_flow": "row wrap",
            "width": "100%",
            "min_width": null,
            "border": null,
            "align_items": null,
            "bottom": null,
            "_model_module": "@jupyter-widgets/base",
            "top": null,
            "grid_column": null,
            "overflow_y": null,
            "overflow_x": null,
            "grid_auto_flow": null,
            "grid_area": null,
            "grid_template_columns": null,
            "flex": null,
            "_model_name": "LayoutModel",
            "justify_items": null,
            "grid_row": null,
            "max_height": null,
            "align_content": null,
            "visibility": null,
            "align_self": null,
            "height": null,
            "min_height": null,
            "padding": null,
            "grid_auto_rows": null,
            "grid_gap": null,
            "max_width": null,
            "order": null,
            "_view_module_version": "1.2.0",
            "grid_template_areas": null,
            "object_position": null,
            "object_fit": null,
            "grid_auto_columns": null,
            "margin": null,
            "display": "inline-flex",
            "left": null
          }
        },
        "da67d06f25b341938d96611e7ca9021b": {
          "model_module": "@jupyter-widgets/controls",
          "model_name": "HTMLModel",
          "model_module_version": "1.5.0",
          "state": {
            "_view_name": "HTMLView",
            "style": "IPY_MODEL_c66197c3cd064d858215136526c36970",
            "_dom_classes": [],
            "description": "",
            "_model_name": "HTMLModel",
            "placeholder": "​",
            "_view_module": "@jupyter-widgets/controls",
            "_model_module_version": "1.5.0",
            "value": "Epoch 0: 100%",
            "_view_count": null,
            "_view_module_version": "1.5.0",
            "description_tooltip": null,
            "_model_module": "@jupyter-widgets/controls",
            "layout": "IPY_MODEL_a44ca1d1c7e949f1a237253483683f14"
          }
        },
        "2e774d5dbdf24f70a7c6fcf361111f69": {
          "model_module": "@jupyter-widgets/controls",
          "model_name": "FloatProgressModel",
          "model_module_version": "1.5.0",
          "state": {
            "_view_name": "ProgressView",
            "style": "IPY_MODEL_85b17c14e13a452f98f84c6b75b00915",
            "_dom_classes": [],
            "description": "",
            "_model_name": "FloatProgressModel",
            "bar_style": "success",
            "max": 36,
            "_view_module": "@jupyter-widgets/controls",
            "_model_module_version": "1.5.0",
            "value": 36,
            "_view_count": null,
            "_view_module_version": "1.5.0",
            "orientation": "horizontal",
            "min": 0,
            "description_tooltip": null,
            "_model_module": "@jupyter-widgets/controls",
            "layout": "IPY_MODEL_0326747e2fce41819917749f6f95b184"
          }
        },
        "ac2821869fb44bc8afa959c9a9f80bd3": {
          "model_module": "@jupyter-widgets/controls",
          "model_name": "HTMLModel",
          "model_module_version": "1.5.0",
          "state": {
            "_view_name": "HTMLView",
            "style": "IPY_MODEL_516a6e31fa704f9a87f32fd131a6ad2b",
            "_dom_classes": [],
            "description": "",
            "_model_name": "HTMLModel",
            "placeholder": "​",
            "_view_module": "@jupyter-widgets/controls",
            "_model_module_version": "1.5.0",
            "value": " 36/36 [00:02&lt;00:00, 12.98it/s, loss=0.668, v_num=2]",
            "_view_count": null,
            "_view_module_version": "1.5.0",
            "description_tooltip": null,
            "_model_module": "@jupyter-widgets/controls",
            "layout": "IPY_MODEL_6f3262e846fe491daa0dc4c091989888"
          }
        },
        "c66197c3cd064d858215136526c36970": {
          "model_module": "@jupyter-widgets/controls",
          "model_name": "DescriptionStyleModel",
          "model_module_version": "1.5.0",
          "state": {
            "_view_name": "StyleView",
            "_model_name": "DescriptionStyleModel",
            "description_width": "",
            "_view_module": "@jupyter-widgets/base",
            "_model_module_version": "1.5.0",
            "_view_count": null,
            "_view_module_version": "1.2.0",
            "_model_module": "@jupyter-widgets/controls"
          }
        },
        "a44ca1d1c7e949f1a237253483683f14": {
          "model_module": "@jupyter-widgets/base",
          "model_name": "LayoutModel",
          "model_module_version": "1.2.0",
          "state": {
            "_view_name": "LayoutView",
            "grid_template_rows": null,
            "right": null,
            "justify_content": null,
            "_view_module": "@jupyter-widgets/base",
            "overflow": null,
            "_model_module_version": "1.2.0",
            "_view_count": null,
            "flex_flow": null,
            "width": null,
            "min_width": null,
            "border": null,
            "align_items": null,
            "bottom": null,
            "_model_module": "@jupyter-widgets/base",
            "top": null,
            "grid_column": null,
            "overflow_y": null,
            "overflow_x": null,
            "grid_auto_flow": null,
            "grid_area": null,
            "grid_template_columns": null,
            "flex": null,
            "_model_name": "LayoutModel",
            "justify_items": null,
            "grid_row": null,
            "max_height": null,
            "align_content": null,
            "visibility": null,
            "align_self": null,
            "height": null,
            "min_height": null,
            "padding": null,
            "grid_auto_rows": null,
            "grid_gap": null,
            "max_width": null,
            "order": null,
            "_view_module_version": "1.2.0",
            "grid_template_areas": null,
            "object_position": null,
            "object_fit": null,
            "grid_auto_columns": null,
            "margin": null,
            "display": null,
            "left": null
          }
        },
        "85b17c14e13a452f98f84c6b75b00915": {
          "model_module": "@jupyter-widgets/controls",
          "model_name": "ProgressStyleModel",
          "model_module_version": "1.5.0",
          "state": {
            "_view_name": "StyleView",
            "_model_name": "ProgressStyleModel",
            "description_width": "",
            "_view_module": "@jupyter-widgets/base",
            "_model_module_version": "1.5.0",
            "_view_count": null,
            "_view_module_version": "1.2.0",
            "bar_color": null,
            "_model_module": "@jupyter-widgets/controls"
          }
        },
        "0326747e2fce41819917749f6f95b184": {
          "model_module": "@jupyter-widgets/base",
          "model_name": "LayoutModel",
          "model_module_version": "1.2.0",
          "state": {
            "_view_name": "LayoutView",
            "grid_template_rows": null,
            "right": null,
            "justify_content": null,
            "_view_module": "@jupyter-widgets/base",
            "overflow": null,
            "_model_module_version": "1.2.0",
            "_view_count": null,
            "flex_flow": null,
            "width": null,
            "min_width": null,
            "border": null,
            "align_items": null,
            "bottom": null,
            "_model_module": "@jupyter-widgets/base",
            "top": null,
            "grid_column": null,
            "overflow_y": null,
            "overflow_x": null,
            "grid_auto_flow": null,
            "grid_area": null,
            "grid_template_columns": null,
            "flex": "2",
            "_model_name": "LayoutModel",
            "justify_items": null,
            "grid_row": null,
            "max_height": null,
            "align_content": null,
            "visibility": null,
            "align_self": null,
            "height": null,
            "min_height": null,
            "padding": null,
            "grid_auto_rows": null,
            "grid_gap": null,
            "max_width": null,
            "order": null,
            "_view_module_version": "1.2.0",
            "grid_template_areas": null,
            "object_position": null,
            "object_fit": null,
            "grid_auto_columns": null,
            "margin": null,
            "display": null,
            "left": null
          }
        },
        "516a6e31fa704f9a87f32fd131a6ad2b": {
          "model_module": "@jupyter-widgets/controls",
          "model_name": "DescriptionStyleModel",
          "model_module_version": "1.5.0",
          "state": {
            "_view_name": "StyleView",
            "_model_name": "DescriptionStyleModel",
            "description_width": "",
            "_view_module": "@jupyter-widgets/base",
            "_model_module_version": "1.5.0",
            "_view_count": null,
            "_view_module_version": "1.2.0",
            "_model_module": "@jupyter-widgets/controls"
          }
        },
        "6f3262e846fe491daa0dc4c091989888": {
          "model_module": "@jupyter-widgets/base",
          "model_name": "LayoutModel",
          "model_module_version": "1.2.0",
          "state": {
            "_view_name": "LayoutView",
            "grid_template_rows": null,
            "right": null,
            "justify_content": null,
            "_view_module": "@jupyter-widgets/base",
            "overflow": null,
            "_model_module_version": "1.2.0",
            "_view_count": null,
            "flex_flow": null,
            "width": null,
            "min_width": null,
            "border": null,
            "align_items": null,
            "bottom": null,
            "_model_module": "@jupyter-widgets/base",
            "top": null,
            "grid_column": null,
            "overflow_y": null,
            "overflow_x": null,
            "grid_auto_flow": null,
            "grid_area": null,
            "grid_template_columns": null,
            "flex": null,
            "_model_name": "LayoutModel",
            "justify_items": null,
            "grid_row": null,
            "max_height": null,
            "align_content": null,
            "visibility": null,
            "align_self": null,
            "height": null,
            "min_height": null,
            "padding": null,
            "grid_auto_rows": null,
            "grid_gap": null,
            "max_width": null,
            "order": null,
            "_view_module_version": "1.2.0",
            "grid_template_areas": null,
            "object_position": null,
            "object_fit": null,
            "grid_auto_columns": null,
            "margin": null,
            "display": null,
            "left": null
          }
        },
        "d0192776eb604b769b232b368d4eab27": {
          "model_module": "@jupyter-widgets/controls",
          "model_name": "HBoxModel",
          "model_module_version": "1.5.0",
          "state": {
            "_view_name": "HBoxView",
            "_dom_classes": [],
            "_model_name": "HBoxModel",
            "_view_module": "@jupyter-widgets/controls",
            "_model_module_version": "1.5.0",
            "_view_count": null,
            "_view_module_version": "1.5.0",
            "box_style": "",
            "layout": "IPY_MODEL_c903b21f5d4745388d9b0eca0300ca4c",
            "_model_module": "@jupyter-widgets/controls",
            "children": [
              "IPY_MODEL_ff7261f767004966a8d6516f695b6196",
              "IPY_MODEL_93f7cff642bd46fcb860b57856b5ffa5",
              "IPY_MODEL_2aaaeda7133e412fb5ce83f22b86776d"
            ]
          }
        },
        "c903b21f5d4745388d9b0eca0300ca4c": {
          "model_module": "@jupyter-widgets/base",
          "model_name": "LayoutModel",
          "model_module_version": "1.2.0",
          "state": {
            "_view_name": "LayoutView",
            "grid_template_rows": null,
            "right": null,
            "justify_content": null,
            "_view_module": "@jupyter-widgets/base",
            "overflow": null,
            "_model_module_version": "1.2.0",
            "_view_count": null,
            "flex_flow": "row wrap",
            "width": "100%",
            "min_width": null,
            "border": null,
            "align_items": null,
            "bottom": null,
            "_model_module": "@jupyter-widgets/base",
            "top": null,
            "grid_column": null,
            "overflow_y": null,
            "overflow_x": null,
            "grid_auto_flow": null,
            "grid_area": null,
            "grid_template_columns": null,
            "flex": null,
            "_model_name": "LayoutModel",
            "justify_items": null,
            "grid_row": null,
            "max_height": null,
            "align_content": null,
            "visibility": null,
            "align_self": null,
            "height": null,
            "min_height": null,
            "padding": null,
            "grid_auto_rows": null,
            "grid_gap": null,
            "max_width": null,
            "order": null,
            "_view_module_version": "1.2.0",
            "grid_template_areas": null,
            "object_position": null,
            "object_fit": null,
            "grid_auto_columns": null,
            "margin": null,
            "display": "inline-flex",
            "left": null
          }
        },
        "ff7261f767004966a8d6516f695b6196": {
          "model_module": "@jupyter-widgets/controls",
          "model_name": "HTMLModel",
          "model_module_version": "1.5.0",
          "state": {
            "_view_name": "HTMLView",
            "style": "IPY_MODEL_74b70ff5e7ce40bd85a7acb38741df9c",
            "_dom_classes": [],
            "description": "",
            "_model_name": "HTMLModel",
            "placeholder": "​",
            "_view_module": "@jupyter-widgets/controls",
            "_model_module_version": "1.5.0",
            "value": "Validating: 100%",
            "_view_count": null,
            "_view_module_version": "1.5.0",
            "description_tooltip": null,
            "_model_module": "@jupyter-widgets/controls",
            "layout": "IPY_MODEL_a442f21cc52b4c4ab80f47906230a20c"
          }
        },
        "93f7cff642bd46fcb860b57856b5ffa5": {
          "model_module": "@jupyter-widgets/controls",
          "model_name": "FloatProgressModel",
          "model_module_version": "1.5.0",
          "state": {
            "_view_name": "ProgressView",
            "style": "IPY_MODEL_6d3233c23d394ee3898a9fbcf74da4b4",
            "_dom_classes": [],
            "description": "",
            "_model_name": "FloatProgressModel",
            "bar_style": "",
            "max": 8,
            "_view_module": "@jupyter-widgets/controls",
            "_model_module_version": "1.5.0",
            "value": 8,
            "_view_count": null,
            "_view_module_version": "1.5.0",
            "orientation": "horizontal",
            "min": 0,
            "description_tooltip": null,
            "_model_module": "@jupyter-widgets/controls",
            "layout": "IPY_MODEL_be81a64971d547e1aefd6829024ca619"
          }
        },
        "2aaaeda7133e412fb5ce83f22b86776d": {
          "model_module": "@jupyter-widgets/controls",
          "model_name": "HTMLModel",
          "model_module_version": "1.5.0",
          "state": {
            "_view_name": "HTMLView",
            "style": "IPY_MODEL_7348ab1840f0481781d597b41d390f95",
            "_dom_classes": [],
            "description": "",
            "_model_name": "HTMLModel",
            "placeholder": "​",
            "_view_module": "@jupyter-widgets/controls",
            "_model_module_version": "1.5.0",
            "value": " 8/8 [00:00&lt;00:00, 25.63it/s]",
            "_view_count": null,
            "_view_module_version": "1.5.0",
            "description_tooltip": null,
            "_model_module": "@jupyter-widgets/controls",
            "layout": "IPY_MODEL_9e96dcb1fd064488b720be58dcc4a1a3"
          }
        },
        "74b70ff5e7ce40bd85a7acb38741df9c": {
          "model_module": "@jupyter-widgets/controls",
          "model_name": "DescriptionStyleModel",
          "model_module_version": "1.5.0",
          "state": {
            "_view_name": "StyleView",
            "_model_name": "DescriptionStyleModel",
            "description_width": "",
            "_view_module": "@jupyter-widgets/base",
            "_model_module_version": "1.5.0",
            "_view_count": null,
            "_view_module_version": "1.2.0",
            "_model_module": "@jupyter-widgets/controls"
          }
        },
        "a442f21cc52b4c4ab80f47906230a20c": {
          "model_module": "@jupyter-widgets/base",
          "model_name": "LayoutModel",
          "model_module_version": "1.2.0",
          "state": {
            "_view_name": "LayoutView",
            "grid_template_rows": null,
            "right": null,
            "justify_content": null,
            "_view_module": "@jupyter-widgets/base",
            "overflow": null,
            "_model_module_version": "1.2.0",
            "_view_count": null,
            "flex_flow": null,
            "width": null,
            "min_width": null,
            "border": null,
            "align_items": null,
            "bottom": null,
            "_model_module": "@jupyter-widgets/base",
            "top": null,
            "grid_column": null,
            "overflow_y": null,
            "overflow_x": null,
            "grid_auto_flow": null,
            "grid_area": null,
            "grid_template_columns": null,
            "flex": null,
            "_model_name": "LayoutModel",
            "justify_items": null,
            "grid_row": null,
            "max_height": null,
            "align_content": null,
            "visibility": null,
            "align_self": null,
            "height": null,
            "min_height": null,
            "padding": null,
            "grid_auto_rows": null,
            "grid_gap": null,
            "max_width": null,
            "order": null,
            "_view_module_version": "1.2.0",
            "grid_template_areas": null,
            "object_position": null,
            "object_fit": null,
            "grid_auto_columns": null,
            "margin": null,
            "display": null,
            "left": null
          }
        },
        "6d3233c23d394ee3898a9fbcf74da4b4": {
          "model_module": "@jupyter-widgets/controls",
          "model_name": "ProgressStyleModel",
          "model_module_version": "1.5.0",
          "state": {
            "_view_name": "StyleView",
            "_model_name": "ProgressStyleModel",
            "description_width": "",
            "_view_module": "@jupyter-widgets/base",
            "_model_module_version": "1.5.0",
            "_view_count": null,
            "_view_module_version": "1.2.0",
            "bar_color": null,
            "_model_module": "@jupyter-widgets/controls"
          }
        },
        "be81a64971d547e1aefd6829024ca619": {
          "model_module": "@jupyter-widgets/base",
          "model_name": "LayoutModel",
          "model_module_version": "1.2.0",
          "state": {
            "_view_name": "LayoutView",
            "grid_template_rows": null,
            "right": null,
            "justify_content": null,
            "_view_module": "@jupyter-widgets/base",
            "overflow": null,
            "_model_module_version": "1.2.0",
            "_view_count": null,
            "flex_flow": null,
            "width": null,
            "min_width": null,
            "border": null,
            "align_items": null,
            "bottom": null,
            "_model_module": "@jupyter-widgets/base",
            "top": null,
            "grid_column": null,
            "overflow_y": null,
            "overflow_x": null,
            "grid_auto_flow": null,
            "grid_area": null,
            "grid_template_columns": null,
            "flex": "2",
            "_model_name": "LayoutModel",
            "justify_items": null,
            "grid_row": null,
            "max_height": null,
            "align_content": null,
            "visibility": null,
            "align_self": null,
            "height": null,
            "min_height": null,
            "padding": null,
            "grid_auto_rows": null,
            "grid_gap": null,
            "max_width": null,
            "order": null,
            "_view_module_version": "1.2.0",
            "grid_template_areas": null,
            "object_position": null,
            "object_fit": null,
            "grid_auto_columns": null,
            "margin": null,
            "display": null,
            "left": null
          }
        },
        "7348ab1840f0481781d597b41d390f95": {
          "model_module": "@jupyter-widgets/controls",
          "model_name": "DescriptionStyleModel",
          "model_module_version": "1.5.0",
          "state": {
            "_view_name": "StyleView",
            "_model_name": "DescriptionStyleModel",
            "description_width": "",
            "_view_module": "@jupyter-widgets/base",
            "_model_module_version": "1.5.0",
            "_view_count": null,
            "_view_module_version": "1.2.0",
            "_model_module": "@jupyter-widgets/controls"
          }
        },
        "9e96dcb1fd064488b720be58dcc4a1a3": {
          "model_module": "@jupyter-widgets/base",
          "model_name": "LayoutModel",
          "model_module_version": "1.2.0",
          "state": {
            "_view_name": "LayoutView",
            "grid_template_rows": null,
            "right": null,
            "justify_content": null,
            "_view_module": "@jupyter-widgets/base",
            "overflow": null,
            "_model_module_version": "1.2.0",
            "_view_count": null,
            "flex_flow": null,
            "width": null,
            "min_width": null,
            "border": null,
            "align_items": null,
            "bottom": null,
            "_model_module": "@jupyter-widgets/base",
            "top": null,
            "grid_column": null,
            "overflow_y": null,
            "overflow_x": null,
            "grid_auto_flow": null,
            "grid_area": null,
            "grid_template_columns": null,
            "flex": null,
            "_model_name": "LayoutModel",
            "justify_items": null,
            "grid_row": null,
            "max_height": null,
            "align_content": null,
            "visibility": null,
            "align_self": null,
            "height": null,
            "min_height": null,
            "padding": null,
            "grid_auto_rows": null,
            "grid_gap": null,
            "max_width": null,
            "order": null,
            "_view_module_version": "1.2.0",
            "grid_template_areas": null,
            "object_position": null,
            "object_fit": null,
            "grid_auto_columns": null,
            "margin": null,
            "display": null,
            "left": null
          }
        }
      }
    }
  },
  "cells": [
    {
      "cell_type": "code",
      "source": [
        "%%capture\n",
        "!pip install mne\n",
        "!pip install pytorch-lightning"
      ],
      "metadata": {
        "id": "TJvtghAiSX6A"
      },
      "execution_count": null,
      "outputs": []
    },
    {
      "cell_type": "code",
      "source": [
        "%%capture\n",
        "!wget https://md-datasets-cache-zipfiles-prod.s3.eu-west-1.amazonaws.com/fshy54ypyh-1.zip -O data.zip\n",
        "!unzip data.zip\n"
      ],
      "metadata": {
        "id": "LzFg29vfSewH"
      },
      "execution_count": null,
      "outputs": []
    },
    {
      "cell_type": "code",
      "source": [
        "from glob import glob\n",
        "import scipy.io\n",
        "import torch.nn as nn\n",
        "import torch\n",
        "import numpy as np\n",
        "import mne"
      ],
      "metadata": {
        "id": "epkRi81yS_y3"
      },
      "execution_count": null,
      "outputs": []
    },
    {
      "cell_type": "code",
      "source": [
        "input=torch.randn(3,22,15000)\n",
        "input.shape"
      ],
      "metadata": {
        "colab": {
          "base_uri": "https://localhost:8080/"
        },
        "id": "RtVMJnue8r4A",
        "outputId": "a26ebbe1-e8e8-4017-abd3-dd2083a137da"
      },
      "execution_count": null,
      "outputs": [
        {
          "output_type": "execute_result",
          "data": {
            "text/plain": [
              "torch.Size([3, 22, 15000])"
            ]
          },
          "metadata": {},
          "execution_count": 4
        }
      ]
    },
    {
      "cell_type": "code",
      "source": [
        "class Block(nn.Module):\n",
        "  def __init__(self,inplace):\n",
        "    super().__init__()\n",
        "    self.conv1=nn.Conv1d(in_channels=inplace,out_channels=32,kernel_size=2,stride=2,padding=0)\n",
        "    self.conv2=nn.Conv1d(in_channels=inplace,out_channels=32,kernel_size=4,stride=2,padding=1)\n",
        "    self.conv3=nn.Conv1d(in_channels=inplace,out_channels=32,kernel_size=8,stride=2,padding=3)\n",
        "    self.relu=nn.ReLU()\n",
        "\n",
        "  def forward(self,x):\n",
        "    x1=self.relu(self.conv1(x))\n",
        "    x2=self.relu(self.conv2(x))\n",
        "    x3=self.relu(self.conv3(x))\n",
        "    x=torch.cat([x1,x3,x3],dim=1)\n",
        "    return x"
      ],
      "metadata": {
        "id": "wtzMgY-M_FZL"
      },
      "execution_count": null,
      "outputs": []
    },
    {
      "cell_type": "code",
      "source": [
        "class ChronoNet(nn.Module):\n",
        "  def __init__(self,channel):\n",
        "    super().__init__()\n",
        "    self.block1=Block(channel)\n",
        "    self.block2=Block(96)\n",
        "    self.block3=Block(96)\n",
        "    self.gru1=nn.GRU(input_size=96,hidden_size=32,batch_first=True)\n",
        "    self.gru2=nn.GRU(input_size=32,hidden_size=32,batch_first=True)\n",
        "    self.gru3=nn.GRU(input_size=64,hidden_size=32,batch_first=True)\n",
        "    self.gru4=nn.GRU(input_size=96,hidden_size=32,batch_first=True)\n",
        "    self.gru_linear=nn.Linear(64,1)\n",
        "    self.flatten=nn.Flatten()\n",
        "    self.fc1=nn.Linear(32,1)\n",
        "    self.relu=nn.ReLU()\n",
        "  def forward(self,x):\n",
        "    x=self.block1(x)\n",
        "    x=self.block2(x)\n",
        "    x=self.block3(x)\n",
        "    x=x.permute(0,2,1)\n",
        "    gru_out1,_=self.gru1(x)\n",
        "    gru_out2,_=self.gru2(gru_out1)\n",
        "    gru_out=torch.cat([gru_out1,gru_out2],dim=2)\n",
        "    gru_out3,_=self.gru3(gru_out)\n",
        "    gru_out=torch.cat([gru_out1,gru_out2,gru_out3],dim=2)\n",
        "    #print('gru_out',gru_out.shape)\n",
        "    linear_out=self.relu(self.gru_linear(gru_out.permute(0,2,1)))\n",
        "    gru_out4,_=self.gru4(linear_out.permute(0,2,1))\n",
        "    x=self.flatten(gru_out4)\n",
        "    x=self.fc1(x)\n",
        "    return x"
      ],
      "metadata": {
        "id": "yhLl-gVt4gtv"
      },
      "execution_count": null,
      "outputs": []
    },
    {
      "cell_type": "code",
      "source": [
        "input=torch.randn(3,14,512)\n",
        "input.shape\n",
        "model=ChronoNet(14)\n",
        "out=model(input)\n",
        "out.shape"
      ],
      "metadata": {
        "colab": {
          "base_uri": "https://localhost:8080/"
        },
        "id": "0KLyQbZh4gwp",
        "outputId": "f68eef69-eb6e-4173-803a-2377a1d7644c"
      },
      "execution_count": null,
      "outputs": [
        {
          "output_type": "execute_result",
          "data": {
            "text/plain": [
              "torch.Size([3, 1])"
            ]
          },
          "metadata": {},
          "execution_count": 9
        }
      ]
    },
    {
      "cell_type": "code",
      "source": [
        "IDD_data_path='/content/Data/CleanData/CleanData_TDC/Rest'\n",
        "TDC_data_path='/content/Data/Data/CleanData/Data/Data/CleanData/CleanData_IDD/Rest'\n",
        "!rm '/content/Data/Data/CleanData/Data/Data/CleanData/CleanData_IDD/Rest/NDS001_Rest_CD(1).mat'"
      ],
      "metadata": {
        "id": "Z4cFUiGnBxB7"
      },
      "execution_count": null,
      "outputs": []
    },
    {
      "cell_type": "code",
      "source": [
        "def convertmat2mne(data):\n",
        "  ch_names = ['AF3', 'F7', 'F3', 'FC5', 'T7', 'P7', 'O1', 'O2', 'P8', 'T8', 'FC6', 'F4', 'F8', 'AF4']\n",
        "  ch_types = ['eeg'] * 14\n",
        "  sampling_freq=128\n",
        "  info = mne.create_info(ch_names, ch_types=ch_types, sfreq=sampling_freq)\n",
        "  info.set_montage('standard_1020')\n",
        "  data=mne.io.RawArray(data, info)\n",
        "  data.set_eeg_reference()\n",
        "  data.filter(l_freq=1,h_freq=30)\n",
        "  epochs=mne.make_fixed_length_epochs(data,duration=4,overlap=0)\n",
        "  return epochs.get_data()"
      ],
      "metadata": {
        "id": "FTESfB9jEylt"
      },
      "execution_count": null,
      "outputs": []
    },
    {
      "cell_type": "code",
      "source": [
        "%%capture\n",
        "idd_subject=[]\n",
        "for idd in glob(IDD_data_path+'/*.mat'):\n",
        "  data=scipy.io.loadmat(idd)['clean_data']\n",
        "  data=convertmat2mne(data)\n",
        "  idd_subject.append(data)"
      ],
      "metadata": {
        "id": "9hbUxNpSS9U8"
      },
      "execution_count": null,
      "outputs": []
    },
    {
      "cell_type": "code",
      "source": [
        "%%capture\n",
        "tdc_subject=[]\n",
        "for tdc in glob(TDC_data_path+'/*.mat'):\n",
        "  data=scipy.io.loadmat(tdc)['clean_data']\n",
        "  data=convertmat2mne(data)\n",
        "  tdc_subject.append(data)\n",
        "  "
      ],
      "metadata": {
        "id": "9U1fOB2QF2U3"
      },
      "execution_count": null,
      "outputs": []
    },
    {
      "cell_type": "code",
      "source": [
        "len(idd_subject),len(tdc_subject)"
      ],
      "metadata": {
        "colab": {
          "base_uri": "https://localhost:8080/"
        },
        "id": "IRVuAHySGnJT",
        "outputId": "cc8c19c8-41a8-4d1f-8b2a-59cf6a59b750"
      },
      "execution_count": null,
      "outputs": [
        {
          "output_type": "execute_result",
          "data": {
            "text/plain": [
              "(7, 7)"
            ]
          },
          "metadata": {},
          "execution_count": 14
        }
      ]
    },
    {
      "cell_type": "code",
      "source": [
        "control_epochs_labels=[len(i)*[0] for i in tdc_subject]\n",
        "patients_epochs_labels=[len(i)*[1] for i in idd_subject]\n",
        "print(len(control_epochs_labels),len(patients_epochs_labels))"
      ],
      "metadata": {
        "colab": {
          "base_uri": "https://localhost:8080/"
        },
        "id": "lc5-ca_RGus7",
        "outputId": "0bcb6cd4-00c8-4c80-ac1d-a866e71766e6"
      },
      "execution_count": null,
      "outputs": [
        {
          "output_type": "stream",
          "name": "stdout",
          "text": [
            "7 7\n"
          ]
        }
      ]
    },
    {
      "cell_type": "code",
      "source": [
        "data_list=tdc_subject+idd_subject\n",
        "label_list=control_epochs_labels+patients_epochs_labels\n",
        "groups_list=[[i]*len(j) for i, j in enumerate(data_list)]\n",
        "print(len(data_list),len(label_list),len(groups_list))\n"
      ],
      "metadata": {
        "colab": {
          "base_uri": "https://localhost:8080/"
        },
        "id": "gIz9MHzAG-HC",
        "outputId": "0b14f19e-d7b0-4264-eeda-cfc15096f017"
      },
      "execution_count": null,
      "outputs": [
        {
          "output_type": "stream",
          "name": "stdout",
          "text": [
            "14 14 14\n"
          ]
        }
      ]
    },
    {
      "cell_type": "code",
      "source": [
        "from sklearn.model_selection import GroupKFold,LeaveOneGroupOut\n",
        "from sklearn.preprocessing import StandardScaler\n",
        "gkf=GroupKFold()\n",
        "from sklearn.base import TransformerMixin,BaseEstimator\n",
        "from sklearn.preprocessing import StandardScaler\n",
        "#https://stackoverflow.com/questions/50125844/how-to-standard-scale-a-3d-matrix\n",
        "class StandardScaler3D(BaseEstimator,TransformerMixin):\n",
        "    #batch, sequence, channels\n",
        "    def __init__(self):\n",
        "        self.scaler = StandardScaler()\n",
        "\n",
        "    def fit(self,X,y=None):\n",
        "        self.scaler.fit(X.reshape(-1, X.shape[2]))\n",
        "        return self\n",
        "\n",
        "    def transform(self,X):\n",
        "        return self.scaler.transform(X.reshape( -1,X.shape[2])).reshape(X.shape)"
      ],
      "metadata": {
        "id": "rodPubFyMbwH"
      },
      "execution_count": null,
      "outputs": []
    },
    {
      "cell_type": "code",
      "source": [
        "import numpy as np\n",
        "data_array=np.concatenate(data_list)\n",
        "label_array=np.concatenate(label_list)\n",
        "group_array=np.concatenate(groups_list)\n",
        "data_array=np.moveaxis(data_array,1,2)\n",
        "\n",
        "print(data_array.shape,label_array.shape,group_array.shape)"
      ],
      "metadata": {
        "colab": {
          "base_uri": "https://localhost:8080/"
        },
        "id": "k_9aWxq9MlFg",
        "outputId": "f05ceda8-0c1e-440a-8f41-d8f2e33feae6"
      },
      "execution_count": null,
      "outputs": [
        {
          "output_type": "stream",
          "name": "stdout",
          "text": [
            "(420, 512, 14) (420,) (420,)\n"
          ]
        }
      ]
    },
    {
      "cell_type": "code",
      "source": [
        "accuracy=[]\n",
        "for train_index, val_index in gkf.split(data_array, label_array, groups=group_array):\n",
        "    train_features,train_labels=data_array[train_index],label_array[train_index]\n",
        "    val_features,val_labels=data_array[val_index],label_array[val_index]\n",
        "    scaler=StandardScaler3D()\n",
        "    train_features=scaler.fit_transform(train_features)\n",
        "    val_features=scaler.transform(val_features)\n",
        "    train_features=np.moveaxis(train_features,1,2)\n",
        "    val_features=np.moveaxis(val_features,1,2)\n",
        "\n",
        "    break"
      ],
      "metadata": {
        "id": "qOq1dRqOMcFd"
      },
      "execution_count": null,
      "outputs": []
    },
    {
      "cell_type": "code",
      "source": [
        "train_features = torch.Tensor(train_features)\n",
        "val_features = torch.Tensor(val_features)\n",
        "train_labels = torch.Tensor(train_labels)\n",
        "val_labels = torch.Tensor(val_labels)"
      ],
      "metadata": {
        "id": "HDyijz8nbaK2"
      },
      "execution_count": null,
      "outputs": []
    },
    {
      "cell_type": "code",
      "source": [
        "len(val_features),len(val_labels)"
      ],
      "metadata": {
        "colab": {
          "base_uri": "https://localhost:8080/"
        },
        "id": "adRqbzk5bF_X",
        "outputId": "09df6384-e35f-4cef-9b10-0e4ec615fa90"
      },
      "execution_count": null,
      "outputs": [
        {
          "output_type": "execute_result",
          "data": {
            "text/plain": [
              "(90, 90)"
            ]
          },
          "metadata": {},
          "execution_count": 22
        }
      ]
    },
    {
      "cell_type": "code",
      "source": [
        "train_features.shape"
      ],
      "metadata": {
        "colab": {
          "base_uri": "https://localhost:8080/"
        },
        "id": "qMsWqCDAMhGJ",
        "outputId": "55bde110-fd35-48a3-d6d6-b26c30444d98"
      },
      "execution_count": null,
      "outputs": [
        {
          "output_type": "execute_result",
          "data": {
            "text/plain": [
              "torch.Size([330, 14, 512])"
            ]
          },
          "metadata": {},
          "execution_count": 23
        }
      ]
    },
    {
      "cell_type": "code",
      "source": [
        "from pytorch_lightning import LightningModule,Trainer\n",
        "import torchmetrics\n",
        "from torch.utils.data import TensorDataset,DataLoader"
      ],
      "metadata": {
        "id": "xNpn_33LMvvT"
      },
      "execution_count": null,
      "outputs": []
    },
    {
      "cell_type": "code",
      "source": [
        "class ChronoModel(LightningModule):\n",
        "  def __init__(self):\n",
        "    super(ChronoModel,self).__init__()\n",
        "    self.model=ChronoNet(14)\n",
        "    self.lr=1e-3\n",
        "    self.bs=12\n",
        "    self.worker=2\n",
        "    self.acc=torchmetrics.Accuracy()\n",
        "    self.creterion=nn.BCEWithLogitsLoss()\n",
        "\n",
        "  def forward(self,x):\n",
        "    x=self.model(x)\n",
        "    return x\n",
        "\n",
        "  def configure_optimizers(self):\n",
        "    return torch.optim.Adam(self.parameters(),lr=self.lr)\n",
        "\n",
        "  def train_dataloader(self):\n",
        "    dataset=TensorDataset(train_features,train_labels)\n",
        "    dataloader=DataLoader(dataset,batch_size=self.bs,num_workers=self.worker,shuffle=True)\n",
        "    return dataloader\n",
        "\n",
        "  def training_step(self,batch,batch_idx):\n",
        "    signal,label=batch\n",
        "    out=self(signal.float())\n",
        "    loss=self.creterion(out.flatten(),label.float().flatten())\n",
        "    acc=self.acc(out.flatten(),label.long().flatten())\n",
        "    return {'loss':loss,'acc':acc}\n",
        "\n",
        "  def trained_epoch_end(self,outputs):\n",
        "    acc=torch.stack([x['acc'] for x in outputs]).mean().detach().cpu().numpy().round(2)\n",
        "    loss=torch.stack([x['loss'] for x in outputs]).mean().detach().cpu().numpy().round(2)\n",
        "    print('train acc loss',acc,loss)\n",
        "\n",
        "  def val_dataloader(self):\n",
        "    dataset=TensorDataset(val_features,val_labels)\n",
        "    dataloader=DataLoader(dataset,batch_size=self.bs,num_workers=self.worker,shuffle=True)\n",
        "    return dataloader\n",
        "\n",
        "  def validation_step(self,batch,batch_idx):\n",
        "    signal,label=batch\n",
        "    out=self(signal.float())\n",
        "    loss=self.creterion(out.flatten(),label.float().flatten())\n",
        "    acc=self.acc(out.flatten(),label.long().flatten())\n",
        "    return {'loss':loss,'acc':acc}\n",
        "\n",
        "  def validation_epoch_end(self,outputs):\n",
        "    acc=torch.stack([x['acc'] for x in outputs]).mean().detach().cpu().numpy().round(2)\n",
        "    loss=torch.stack([x['loss'] for x in outputs]).mean().detach().cpu().numpy().round(2)\n",
        "    print('val acc loss',acc,loss)\n",
        "    \n",
        "\n",
        "\n",
        "\n",
        "\n",
        "\n",
        "\n",
        "\n",
        "\n",
        "\n"
      ],
      "metadata": {
        "id": "W8I9ymGnalea"
      },
      "execution_count": null,
      "outputs": []
    },
    {
      "cell_type": "code",
      "source": [
        "model=ChronoModel()\n"
      ],
      "metadata": {
        "id": "Cv6BN2NKMeds"
      },
      "execution_count": null,
      "outputs": []
    },
    {
      "cell_type": "code",
      "source": [
        "trainer=Trainer(max_epochs=1)"
      ],
      "metadata": {
        "colab": {
          "base_uri": "https://localhost:8080/"
        },
        "id": "FcKQ8b1fMjkV",
        "outputId": "b1597491-3c5f-4a13-8c4d-f34b7fe7fb24"
      },
      "execution_count": null,
      "outputs": [
        {
          "output_type": "stream",
          "name": "stderr",
          "text": [
            "GPU available: False, used: False\n",
            "TPU available: False, using: 0 TPU cores\n",
            "IPU available: False, using: 0 IPUs\n"
          ]
        }
      ]
    },
    {
      "cell_type": "code",
      "source": [
        "trainer.fit(model)"
      ],
      "metadata": {
        "colab": {
          "base_uri": "https://localhost:8080/",
          "height": 364,
          "referenced_widgets": [
            "d906d8b3258a4897bd5301d4feaa91c7",
            "ddb353b0e36747839bebbc72689b29a8",
            "6f0e8c4ca555468fb2d14b929434fc49",
            "7c19031e4b1a4306ae282a6cdf4a0935",
            "960da51a7dc342c4ae478cfa551de087",
            "c26031cf9401466dad958a13dd606dc8",
            "c3ac49e08f2243cf8d0fd5beb631a10f",
            "874dce2b24c6419b8a8f32ab264b4daa",
            "dbf216bbe04a45ba89dc71d9e0632f6e",
            "330e6b856caf4754a302be2f7fd66099",
            "ee28e600a91944cab7a85d06b78add4c",
            "c08f1e54817a4cb399d13f70cc631556",
            "29db7d286e214531afde8496c7eac53b",
            "da67d06f25b341938d96611e7ca9021b",
            "2e774d5dbdf24f70a7c6fcf361111f69",
            "ac2821869fb44bc8afa959c9a9f80bd3",
            "c66197c3cd064d858215136526c36970",
            "a44ca1d1c7e949f1a237253483683f14",
            "85b17c14e13a452f98f84c6b75b00915",
            "0326747e2fce41819917749f6f95b184",
            "516a6e31fa704f9a87f32fd131a6ad2b",
            "6f3262e846fe491daa0dc4c091989888",
            "d0192776eb604b769b232b368d4eab27",
            "c903b21f5d4745388d9b0eca0300ca4c",
            "ff7261f767004966a8d6516f695b6196",
            "93f7cff642bd46fcb860b57856b5ffa5",
            "2aaaeda7133e412fb5ce83f22b86776d",
            "74b70ff5e7ce40bd85a7acb38741df9c",
            "a442f21cc52b4c4ab80f47906230a20c",
            "6d3233c23d394ee3898a9fbcf74da4b4",
            "be81a64971d547e1aefd6829024ca619",
            "7348ab1840f0481781d597b41d390f95",
            "9e96dcb1fd064488b720be58dcc4a1a3"
          ]
        },
        "id": "ZKqNUh_1MtMf",
        "outputId": "ef88a5d6-ee10-4b41-cda3-5094447ed1fb"
      },
      "execution_count": null,
      "outputs": [
        {
          "output_type": "stream",
          "name": "stderr",
          "text": [
            "\n",
            "  | Name      | Type              | Params\n",
            "------------------------------------------------\n",
            "0 | model     | ChronoNet         | 133 K \n",
            "1 | acc       | Accuracy          | 0     \n",
            "2 | creterion | BCEWithLogitsLoss | 0     \n",
            "------------------------------------------------\n",
            "133 K     Trainable params\n",
            "0         Non-trainable params\n",
            "133 K     Total params\n",
            "0.534     Total estimated model params size (MB)\n"
          ]
        },
        {
          "output_type": "display_data",
          "data": {
            "application/vnd.jupyter.widget-view+json": {
              "model_id": "d906d8b3258a4897bd5301d4feaa91c7",
              "version_minor": 0,
              "version_major": 2
            },
            "text/plain": [
              "Validation sanity check: 0it [00:00, ?it/s]"
            ]
          },
          "metadata": {}
        },
        {
          "output_type": "stream",
          "name": "stderr",
          "text": [
            "/usr/local/lib/python3.7/dist-packages/pytorch_lightning/trainer/data_loading.py:658: UserWarning: Your `val_dataloader` has `shuffle=True`, it is strongly recommended that you turn this off for val/test/predict dataloaders.\n",
            "  category=UserWarning,\n",
            "/usr/local/lib/python3.7/dist-packages/pytorch_lightning/trainer/data_loading.py:429: UserWarning: The number of training samples (28) is smaller than the logging interval Trainer(log_every_n_steps=50). Set a lower value for log_every_n_steps if you want to see logs for the training epoch.\n",
            "  f\"The number of training samples ({self.num_training_batches}) is smaller than the logging interval\"\n"
          ]
        },
        {
          "output_type": "stream",
          "name": "stdout",
          "text": [
            "val acc loss 0.25 0.7\n"
          ]
        },
        {
          "output_type": "display_data",
          "data": {
            "application/vnd.jupyter.widget-view+json": {
              "model_id": "c08f1e54817a4cb399d13f70cc631556",
              "version_minor": 0,
              "version_major": 2
            },
            "text/plain": [
              "Training: 0it [00:00, ?it/s]"
            ]
          },
          "metadata": {}
        },
        {
          "output_type": "display_data",
          "data": {
            "application/vnd.jupyter.widget-view+json": {
              "model_id": "d0192776eb604b769b232b368d4eab27",
              "version_minor": 0,
              "version_major": 2
            },
            "text/plain": [
              "Validating: 0it [00:00, ?it/s]"
            ]
          },
          "metadata": {}
        },
        {
          "output_type": "stream",
          "name": "stdout",
          "text": [
            "val acc loss 0.32 0.66\n"
          ]
        }
      ]
    },
    {
      "cell_type": "code",
      "source": [
        ""
      ],
      "metadata": {
        "id": "ThvwI1CdMvkt"
      },
      "execution_count": null,
      "outputs": []
    }
  ]
}